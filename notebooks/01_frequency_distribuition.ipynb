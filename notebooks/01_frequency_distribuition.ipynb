{
  "nbformat": 4,
  "nbformat_minor": 0,
  "metadata": {
    "colab": {
      "name": "01_frequency_distribuition.ipynb",
      "provenance": [],
      "collapsed_sections": [],
      "authorship_tag": "ABX9TyMoYC4Ut9GiwTDm5HmLlrDP",
      "include_colab_link": true
    },
    "kernelspec": {
      "name": "python3",
      "display_name": "Python 3"
    }
  },
  "cells": [
    {
      "cell_type": "markdown",
      "metadata": {
        "id": "view-in-github",
        "colab_type": "text"
      },
      "source": [
        "<a href=\"https://colab.research.google.com/github/ralsouza/statistical_analysis/blob/master/notebooks/01_frequency_distribuition.ipynb\" target=\"_parent\"><img src=\"https://colab.research.google.com/assets/colab-badge.svg\" alt=\"Open In Colab\"/></a>"
      ]
    },
    {
      "cell_type": "markdown",
      "metadata": {
        "id": "a6LAudiVrIFz",
        "colab_type": "text"
      },
      "source": [
        "A professor was collected the grades of the final evaluation from the math course. The professor would like to tabulate the data to extract insights and to understand how these data are organized.\n",
        "\n",
        "Make a frequency distribuition to help the teacher."
      ]
    },
    {
      "cell_type": "code",
      "metadata": {
        "id": "c1L9ABnJq1zx",
        "colab_type": "code",
        "colab": {}
      },
      "source": [
        "import pandas as pd"
      ],
      "execution_count": 0,
      "outputs": []
    },
    {
      "cell_type": "code",
      "metadata": {
        "id": "deti13GIuwdc",
        "colab_type": "code",
        "colab": {}
      },
      "source": [
        "# List of grades from students\n",
        "grades = [92,81,100,92,71,73,100,92,84,100,73,92,73,84,92,92,92,84,73,100]"
      ],
      "execution_count": 0,
      "outputs": []
    },
    {
      "cell_type": "code",
      "metadata": {
        "id": "ZEE_nNKIvPJv",
        "colab_type": "code",
        "outputId": "b6402099-2577-4834-8ee8-4630c1e3b248",
        "colab": {
          "base_uri": "https://localhost:8080/",
          "height": 34
        }
      },
      "source": [
        "# Lenght of the list\n",
        "len(grades)"
      ],
      "execution_count": 3,
      "outputs": [
        {
          "output_type": "execute_result",
          "data": {
            "text/plain": [
              "20"
            ]
          },
          "metadata": {
            "tags": []
          },
          "execution_count": 3
        }
      ]
    },
    {
      "cell_type": "markdown",
      "metadata": {
        "id": "6nb_6iLDv3H2",
        "colab_type": "text"
      },
      "source": [
        "# 1. Solution with Series"
      ]
    },
    {
      "cell_type": "code",
      "metadata": {
        "id": "kPs-NrRvvpZx",
        "colab_type": "code",
        "outputId": "f570ca43-a942-47bb-96c8-c19b35b03781",
        "colab": {
          "base_uri": "https://localhost:8080/",
          "height": 136
        }
      },
      "source": [
        "# Doesn't dividing classes\n",
        "df1 = pd.Series(grades).value_counts().reset_index().sort_values('index').reset_index(drop=True)\n",
        "df1.columns = ['grade','frequency']\n",
        "print(df1)"
      ],
      "execution_count": 4,
      "outputs": [
        {
          "output_type": "stream",
          "text": [
            "   grade  frequency\n",
            "0     71          1\n",
            "1     73          4\n",
            "2     81          1\n",
            "3     84          3\n",
            "4     92          7\n",
            "5    100          4\n"
          ],
          "name": "stdout"
        }
      ]
    },
    {
      "cell_type": "code",
      "metadata": {
        "id": "FBeAEz3gwYdT",
        "colab_type": "code",
        "colab": {
          "base_uri": "https://localhost:8080/",
          "height": 102
        },
        "outputId": "ddd0e947-e672-4c70-ceff-f6630421afe7"
      },
      "source": [
        "# Dividing by classes (bins=3)\n",
        "df1 = pd.Series(grades).value_counts(bins=4).reset_index().sort_values('index').reset_index(drop=True)\n",
        "df1.columns = ['grade','frequency']\n",
        "print(df1)"
      ],
      "execution_count": 7,
      "outputs": [
        {
          "output_type": "stream",
          "text": [
            "            grade  frequency\n",
            "0  (70.97, 78.25]          5\n",
            "1   (78.25, 85.5]          4\n",
            "2   (85.5, 92.75]          7\n",
            "3  (92.75, 100.0]          4\n"
          ],
          "name": "stdout"
        }
      ]
    },
    {
      "cell_type": "markdown",
      "metadata": {
        "id": "LEulsagmxBrE",
        "colab_type": "text"
      },
      "source": [
        "#2. Solution with Pandas DataFrame"
      ]
    },
    {
      "cell_type": "markdown",
      "metadata": {
        "id": "14COpyhUyF9X",
        "colab_type": "text"
      },
      "source": [
        "## 2.1 Simple Distribuition - fi\n",
        "Are the values that reprensents the number of quantity of data in each class. The sum of the simple frequencies is the same of the number of total of data."
      ]
    },
    {
      "cell_type": "code",
      "metadata": {
        "id": "xU-tQD7ZxFrG",
        "colab_type": "code",
        "colab": {
          "base_uri": "https://localhost:8080/",
          "height": 153
        },
        "outputId": "81e03749-899c-4742-a745-8e12ff567d3e"
      },
      "source": [
        " df2 = pd.value_counts(grades).to_frame(name='fi').rename_axis('grade').sort_index()\n",
        " print(df2)"
      ],
      "execution_count": 14,
      "outputs": [
        {
          "output_type": "stream",
          "text": [
            "       fi\n",
            "grade    \n",
            "71      1\n",
            "73      4\n",
            "81      1\n",
            "84      3\n",
            "92      7\n",
            "100     4\n"
          ],
          "name": "stdout"
        }
      ]
    },
    {
      "cell_type": "markdown",
      "metadata": {
        "id": "sPxqZiH700FH",
        "colab_type": "text"
      },
      "source": [
        "## 2.2 Simple Relative Distribuition - fri\n",
        "Allow to visualize the values about the simple frequencies and the total of frequency. "
      ]
    },
    {
      "cell_type": "code",
      "metadata": {
        "id": "TrJMnTmX1NBJ",
        "colab_type": "code",
        "colab": {
          "base_uri": "https://localhost:8080/",
          "height": 266
        },
        "outputId": "44cf80cf-424a-4727-ac87-4f90e1c46753"
      },
      "source": [
        "df2['fri'] = pd.value_counts(grades) / len(grades)\n",
        "df2"
      ],
      "execution_count": 15,
      "outputs": [
        {
          "output_type": "execute_result",
          "data": {
            "text/html": [
              "<div>\n",
              "<style scoped>\n",
              "    .dataframe tbody tr th:only-of-type {\n",
              "        vertical-align: middle;\n",
              "    }\n",
              "\n",
              "    .dataframe tbody tr th {\n",
              "        vertical-align: top;\n",
              "    }\n",
              "\n",
              "    .dataframe thead th {\n",
              "        text-align: right;\n",
              "    }\n",
              "</style>\n",
              "<table border=\"1\" class=\"dataframe\">\n",
              "  <thead>\n",
              "    <tr style=\"text-align: right;\">\n",
              "      <th></th>\n",
              "      <th>fi</th>\n",
              "      <th>fri</th>\n",
              "    </tr>\n",
              "    <tr>\n",
              "      <th>grade</th>\n",
              "      <th></th>\n",
              "      <th></th>\n",
              "    </tr>\n",
              "  </thead>\n",
              "  <tbody>\n",
              "    <tr>\n",
              "      <th>71</th>\n",
              "      <td>1</td>\n",
              "      <td>0.05</td>\n",
              "    </tr>\n",
              "    <tr>\n",
              "      <th>73</th>\n",
              "      <td>4</td>\n",
              "      <td>0.20</td>\n",
              "    </tr>\n",
              "    <tr>\n",
              "      <th>81</th>\n",
              "      <td>1</td>\n",
              "      <td>0.05</td>\n",
              "    </tr>\n",
              "    <tr>\n",
              "      <th>84</th>\n",
              "      <td>3</td>\n",
              "      <td>0.15</td>\n",
              "    </tr>\n",
              "    <tr>\n",
              "      <th>92</th>\n",
              "      <td>7</td>\n",
              "      <td>0.35</td>\n",
              "    </tr>\n",
              "    <tr>\n",
              "      <th>100</th>\n",
              "      <td>4</td>\n",
              "      <td>0.20</td>\n",
              "    </tr>\n",
              "  </tbody>\n",
              "</table>\n",
              "</div>"
            ],
            "text/plain": [
              "       fi   fri\n",
              "grade          \n",
              "71      1  0.05\n",
              "73      4  0.20\n",
              "81      1  0.05\n",
              "84      3  0.15\n",
              "92      7  0.35\n",
              "100     4  0.20"
            ]
          },
          "metadata": {
            "tags": []
          },
          "execution_count": 15
        }
      ]
    },
    {
      "cell_type": "markdown",
      "metadata": {
        "id": "osJU41yx1nJE",
        "colab_type": "text"
      },
      "source": [
        "## 2.3 Accumulated Frequency Distribiution - Fi\n",
        "Allow to visualize the total of frequencies of all lower values up to uppper limit of each class."
      ]
    },
    {
      "cell_type": "code",
      "metadata": {
        "id": "GoX9odKR2T05",
        "colab_type": "code",
        "colab": {
          "base_uri": "https://localhost:8080/",
          "height": 153
        },
        "outputId": "86d3ec14-d4c5-44fe-8dd0-e310de85d529"
      },
      "source": [
        "df2['Fi'] = df2['fi'].cumsum()\n",
        "print(df2)"
      ],
      "execution_count": 16,
      "outputs": [
        {
          "output_type": "stream",
          "text": [
            "       fi   fri  Fi\n",
            "grade              \n",
            "71      1  0.05   1\n",
            "73      4  0.20   5\n",
            "81      1  0.05   6\n",
            "84      3  0.15   9\n",
            "92      7  0.35  16\n",
            "100     4  0.20  20\n"
          ],
          "name": "stdout"
        }
      ]
    },
    {
      "cell_type": "markdown",
      "metadata": {
        "id": "calRQuYT2pAj",
        "colab_type": "text"
      },
      "source": [
        "## 2.4 Accumulated Relative Frequency Distribuition - Fri\n",
        "Allow to visualize the accumulated frequency of each class, divided by the total of distribuition."
      ]
    },
    {
      "cell_type": "code",
      "metadata": {
        "id": "IJg5U04E2-Bc",
        "colab_type": "code",
        "colab": {
          "base_uri": "https://localhost:8080/",
          "height": 153
        },
        "outputId": "764a5726-0e57-4507-bf43-00fda71f8197"
      },
      "source": [
        "df2['Fri'] = df2['fi'].cumsum() / len(grades)\n",
        "print(df2)"
      ],
      "execution_count": 17,
      "outputs": [
        {
          "output_type": "stream",
          "text": [
            "       fi   fri  Fi   Fri\n",
            "grade                    \n",
            "71      1  0.05   1  0.05\n",
            "73      4  0.20   5  0.25\n",
            "81      1  0.05   6  0.30\n",
            "84      3  0.15   9  0.45\n",
            "92      7  0.35  16  0.80\n",
            "100     4  0.20  20  1.00\n"
          ],
          "name": "stdout"
        }
      ]
    }
  ]
}