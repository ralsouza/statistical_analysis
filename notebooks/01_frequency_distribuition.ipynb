{
  "nbformat": 4,
  "nbformat_minor": 0,
  "metadata": {
    "colab": {
      "name": "01_frequency_distribuition.ipynb",
      "provenance": [],
      "collapsed_sections": [],
      "authorship_tag": "ABX9TyMTqqg2RfF2YeyiyVKIJEkh",
      "include_colab_link": true
    },
    "kernelspec": {
      "name": "python3",
      "display_name": "Python 3"
    }
  },
  "cells": [
    {
      "cell_type": "markdown",
      "metadata": {
        "id": "view-in-github",
        "colab_type": "text"
      },
      "source": [
        "<a href=\"https://colab.research.google.com/github/ralsouza/statistical_analysis/blob/master/notebooks/01_frequency_distribuition.ipynb\" target=\"_parent\"><img src=\"https://colab.research.google.com/assets/colab-badge.svg\" alt=\"Open In Colab\"/></a>"
      ]
    },
    {
      "cell_type": "markdown",
      "metadata": {
        "id": "a6LAudiVrIFz",
        "colab_type": "text"
      },
      "source": [
        "A professor was collected the grades of the final evaluation from the math course. The professor would like to tabulate the data to extract insights and to understand how these data are organized.\n",
        "\n",
        "Make a frequency distribuition to help the teacher."
      ]
    },
    {
      "cell_type": "code",
      "metadata": {
        "id": "c1L9ABnJq1zx",
        "colab_type": "code",
        "colab": {}
      },
      "source": [
        "import pandas as pd"
      ],
      "execution_count": 0,
      "outputs": []
    },
    {
      "cell_type": "code",
      "metadata": {
        "id": "deti13GIuwdc",
        "colab_type": "code",
        "colab": {}
      },
      "source": [
        "# List of grades from students\n",
        "grades = [92,81,100,92,71,73,100,92,84,100,73,92,73,84,92,92,92,84,73,100]"
      ],
      "execution_count": 0,
      "outputs": []
    },
    {
      "cell_type": "code",
      "metadata": {
        "id": "ZEE_nNKIvPJv",
        "colab_type": "code",
        "colab": {
          "base_uri": "https://localhost:8080/",
          "height": 34
        },
        "outputId": "fd041d19-3c6f-4e17-f368-45a9417e290d"
      },
      "source": [
        "# Lenght of the list\n",
        "len(grades)"
      ],
      "execution_count": 6,
      "outputs": [
        {
          "output_type": "execute_result",
          "data": {
            "text/plain": [
              "20"
            ]
          },
          "metadata": {
            "tags": []
          },
          "execution_count": 6
        }
      ]
    },
    {
      "cell_type": "markdown",
      "metadata": {
        "id": "6nb_6iLDv3H2",
        "colab_type": "text"
      },
      "source": [
        "# 1. Solution with Series"
      ]
    },
    {
      "cell_type": "code",
      "metadata": {
        "id": "kPs-NrRvvpZx",
        "colab_type": "code",
        "colab": {
          "base_uri": "https://localhost:8080/",
          "height": 141
        },
        "outputId": "e72e0904-9af7-4f44-b8a5-fd7495f16001"
      },
      "source": [
        "df1 = pd.Series(grades).value_counts().reset_index().sort_values('index').reset_index(drop=True)\n",
        "df1.columns = ['grade','frequency']\n",
        "print(df1)"
      ],
      "execution_count": 19,
      "outputs": [
        {
          "output_type": "stream",
          "text": [
            "   grade  frequency\n",
            "0     71          1\n",
            "1     73          4\n",
            "2     81          1\n",
            "3     84          3\n",
            "4     92          7\n",
            "5    100          4\n"
          ],
          "name": "stdout"
        }
      ]
    }
  ]
}